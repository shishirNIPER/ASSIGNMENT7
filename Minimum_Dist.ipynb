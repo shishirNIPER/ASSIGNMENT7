{
  "nbformat": 4,
  "nbformat_minor": 0,
  "metadata": {
    "colab": {
      "name": "Minimum_Dist.ipynb",
      "provenance": []
    },
    "kernelspec": {
      "name": "python3",
      "display_name": "Python 3"
    },
    "language_info": {
      "name": "python"
    }
  },
  "cells": [
    {
      "cell_type": "code",
      "metadata": {
        "colab": {
          "base_uri": "https://localhost:8080/"
        },
        "id": "GAy1wITmL0G5",
        "outputId": "1c50c0c8-111e-497d-9ddf-8efc79461661"
      },
      "source": [
        "import numpy as np\n",
        "from cvxpy import *\n",
        "\n",
        "\n",
        "#Parabola parameters\n",
        "P = np.array([0,3]).reshape(2,-1)\n",
        "V = np.array([[1,0],[0,0]])\n",
        "u = np.array([0,-1]).reshape(2,-1)\n",
        "\n",
        "x = Variable((2,1))\n",
        "\n",
        "#Cost function\n",
        "f =  quad_form(x-P, np.eye(2))\n",
        "obj = Minimize(f)\n",
        "\n",
        "#Constraints\n",
        "constraints = [quad_form(x,V) + u.T@x + 0 <= 0]\n",
        "\n",
        "#solution\n",
        "Problem(obj, constraints).solve()\n",
        "\n",
        "print(np.sqrt(f.value),x.value)"
      ],
      "execution_count": 1,
      "outputs": [
        {
          "output_type": "stream",
          "name": "stdout",
          "text": [
            "[[1.63784147e-06]] [[0.        ]\n",
            " [3.00000164]]\n"
          ]
        }
      ]
    }
  ]
}